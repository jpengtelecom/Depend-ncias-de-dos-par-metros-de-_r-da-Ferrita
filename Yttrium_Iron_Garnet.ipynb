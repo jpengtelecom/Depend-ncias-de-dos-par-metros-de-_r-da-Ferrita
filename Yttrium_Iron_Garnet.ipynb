{
  "nbformat": 4,
  "nbformat_minor": 0,
  "metadata": {
    "colab": {
      "provenance": [],
      "authorship_tag": "ABX9TyNCoL6UiW0DVZsNRDzAncH+",
      "include_colab_link": true
    },
    "kernelspec": {
      "name": "python3",
      "display_name": "Python 3"
    },
    "language_info": {
      "name": "python"
    }
  },
  "cells": [
    {
      "cell_type": "markdown",
      "metadata": {
        "id": "view-in-github",
        "colab_type": "text"
      },
      "source": [
        "<a href=\"https://colab.research.google.com/github/jpengtelecom/Depend-ncias-de-dos-par-metros-de-_r-da-Ferrita/blob/main/Yttrium_Iron_Garnet.ipynb\" target=\"_parent\"><img src=\"https://colab.research.google.com/assets/colab-badge.svg\" alt=\"Open In Colab\"/></a>"
      ]
    },
    {
      "cell_type": "code",
      "execution_count": null,
      "metadata": {
        "id": "n9TfMCcGRcbe"
      },
      "outputs": [],
      "source": [
        "!pip install numpy\n",
        "!pip install matplotlib"
      ]
    },
    {
      "cell_type": "code",
      "source": [
        "import numpy as np\n",
        "import matplotlib.pyplot as plt\n",
        "\n",
        "# Constantes\n",
        "C = 3 * 10**8  # Velocidade da luz (m/s)\n",
        "mi0 = 4 * np.pi * (10**(-7))  # Permeabilidade do vácuo\n",
        "Epsilon_0 =  8.8541878176 * 10**(-12) # permissividade do vácuo  (F/m)\n",
        "Gamma = 1.759 * (10**11)  # Gyromagnetic ratio (Ckg−1)\n",
        "\n",
        "# Características do Yttrium Iron Garnet - Apêndice H do Livro do Pozar\n",
        "\n",
        "# 4*π*10**(−3) oersted (Oe) = 1 (A/m)\n",
        "H0_values = [3200, 3400, 3600]  # Valores de H0 para diferentes simulações (Oersteds)\n",
        "\n",
        "\n",
        "\n",
        "Delta_H = 45  # Oersteds (Oe)\n",
        "Delta_H = Delta_H * (1 /( 4 * np.pi *(10**(-3)))) #  (A/m)\n",
        "\n",
        "\n",
        "# μ0* Ms weber/m2 = 10**−4 (4*π*Ms gauss)\n",
        "M0 = 1780 / (4 * np.pi)   # Magnetização (G)\n",
        "M0 = ((10**(-4))/(mi0))* (4 * np.pi) * M0 # Magnetização (weber/m2)\n",
        "\n",
        "Mr = 1227 / (4 * np.pi)   # Magnetização permanente (G)\n",
        "Mr = ((10**(-4))/(mi0))* (4 * np.pi) * Mr # Magnetização permanente (weber/m2)\n",
        "\n",
        "Epsilon_p = 15  # Permissividade escalar\n",
        "tan_delta = 0.0002 # loss tangent\n",
        "Tc = 225  # Curie temperature\n",
        "\n",
        "# Definindo a faixa de frequências e calculando omega e Lambda\n",
        "Frequencia = np.linspace(6 * 10**9, 12 * 10**9, 100)  # Faixa de 6 GHz a 12 GHz\n",
        "omega = 2 * np.pi * Frequencia  # Frequências angulares\n",
        "Lambda = (C / Frequencia) * 10**3  # Convertendo Lambda para milímetros\n",
        "\n",
        "# Configurando o gráfico\n",
        "plt.figure(figsize=(15, 10))\n",
        "\n",
        "# Loop para diferentes valores de H0\n",
        "for H0_value in H0_values:\n",
        "    # Convertendo H0 para (A/m)\n",
        "    H0 = H0_value * (1 / (4 * np.pi * (10**(-3))))  # (A/m)\n",
        "\n",
        "    # Cálculo de parâmetros\n",
        "    b =  mi0 * Gamma * Delta_H / (2 * omega)  # Constante de amortecimento adimensional\n",
        "    omega_m = mi0 * Gamma * M0  # Frequência de magnetização\n",
        "    omega_0 =  mi0 * Gamma * H0  # Frequência de Larmor\n",
        "\n",
        "    # Calculando os parâmetros com dependência de omega\n",
        "    D = (((omega_0**2) - ((omega**2) * (1 + (b**2))))**2) + 4 * (omega_0**2) * (omega**2) * (b**2)\n",
        "    X_1 = (omega_0 * omega_m * ((omega_0**2) - (omega**2) * (1 - (b**2)))) / D  # χ'\n",
        "    X_2 = (omega * omega_m * b * ((omega_0**2) + (omega**2) * (1 + (b**2)))) / D  # χ''\n",
        "    omega_1 = (omega * omega_m * ((omega_0**2) - (omega**2) * (1 + (b**2)))) / D  # Ω'\n",
        "    omega_2 = (2 * (omega**2) * omega_0 * omega_m * b) / D  # Ω''\n",
        "\n",
        "    # Definindo as variáveis complexas mi_T e alfa\n",
        "    mi_T = 1 + X_1 + X_2 * 1j  # μ_T = 1 + χ' + iχ''\n",
        "    alfa = omega_1 + omega_2 * 1j  # α = Ω' + iΩ''\n",
        "\n",
        "    # Separando as partes reais e imaginárias\n",
        "    mi_T_real = mi_T.real\n",
        "    mi_T_imaginaria = mi_T.imag\n",
        "    alfa_real = alfa.real\n",
        "    alfa_imaginaria = alfa.imag\n",
        "\n",
        "    # Plotando as curvas para o valor de H0 atual\n",
        "    plt.plot(Lambda, mi_T_real, label=f'Re{{μ_T}} para H0 = {H0_value}', linestyle='solid')\n",
        "    plt.plot(Lambda, mi_T_imaginaria, label=f'Im{{μ_T}} para H0 = {H0_value}', linestyle='dotted')\n",
        "    plt.plot(Lambda, alfa_real, label=f'Re{{α}} para H0 = {H0_value}', linestyle='dashed')\n",
        "    plt.plot(Lambda, alfa_imaginaria, label=f'Im{{α}} para H0 = {H0_value}', linestyle='dashdot')\n",
        "\n",
        "# Configurações do gráfico\n",
        "plt.title('Dependências de λ dos parâmetros de μ_r da Ferrita (Yttrium Iron Garnet) com diferentes valores de H0', fontsize=20)\n",
        "plt.xlabel('λ [mm]', fontsize=20)\n",
        "plt.ylabel('μ_p', fontsize=20)\n",
        "plt.xticks(fontsize=15)\n",
        "plt.yticks(fontsize=15)\n",
        "plt.legend(fontsize=12, frameon=True, facecolor='lightgrey', edgecolor='black')\n",
        "plt.grid(True)\n",
        "plt.tight_layout()\n",
        "plt.show()\n"
      ],
      "metadata": {
        "id": "_Z5GpIY7RjmW"
      },
      "execution_count": null,
      "outputs": []
    }
  ]
}